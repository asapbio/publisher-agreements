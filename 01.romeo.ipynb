{
 "cells": [
  {
   "cell_type": "markdown",
   "metadata": {},
   "source": [
    "# Extract copyright links from SHERPA/RoMEO\n",
    "\n",
    "This notebook downloads information on publishers from the [SHERPA/RoMEO API](http://www.sherpa.ac.uk/romeo/apimanual.php)."
   ]
  },
  {
   "cell_type": "code",
   "execution_count": 1,
   "metadata": {},
   "outputs": [],
   "source": [
    "import collections\n",
    "import html\n",
    "import urllib.request\n",
    "\n",
    "import lxml.etree\n",
    "import pandas"
   ]
  },
  {
   "cell_type": "markdown",
   "metadata": {},
   "source": [
    "## Download XML"
   ]
  },
  {
   "cell_type": "code",
   "execution_count": 2,
   "metadata": {},
   "outputs": [
    {
     "data": {
      "text/plain": [
       "'Thu, 19 Apr 2018 20:10:28 GMT'"
      ]
     },
     "execution_count": 2,
     "metadata": {},
     "output_type": "execute_result"
    }
   ],
   "source": [
    "url = 'http://www.sherpa.ac.uk/romeo/api29.php?all=yes&showfunder=none'\n",
    "path, headers = urllib.request.urlretrieve(url, 'data/romeo-publishers.xml')\n",
    "headers.get('Date')"
   ]
  },
  {
   "cell_type": "markdown",
   "metadata": {},
   "source": [
    "## Read and process XML"
   ]
  },
  {
   "cell_type": "code",
   "execution_count": 3,
   "metadata": {},
   "outputs": [],
   "source": [
    "tree = lxml.etree.parse('data/romeo-publishers.xml')"
   ]
  },
  {
   "cell_type": "code",
   "execution_count": 4,
   "metadata": {},
   "outputs": [
    {
     "data": {
      "text/plain": [
       "2973"
      ]
     },
     "execution_count": 4,
     "metadata": {},
     "output_type": "execute_result"
    }
   ],
   "source": [
    "publishers = tree.findall('publishers/publisher')\n",
    "len(publishers)"
   ]
  },
  {
   "cell_type": "code",
   "execution_count": 5,
   "metadata": {},
   "outputs": [],
   "source": [
    "def get_publisher_info(publisher):\n",
    "    \"\"\"\n",
    "    Get basic information from a SHERPA/RoMEO publisher XML element\n",
    "    \"\"\"\n",
    "    info = {\n",
    "        'romeo_id': publisher.get('id'),\n",
    "        'publisher_name': html.unescape(publisher.findtext('name').strip()),\n",
    "        'publisher_alias': publisher.findtext('alias').strip(),\n",
    "    }\n",
    "    return collections.OrderedDict(info)"
   ]
  },
  {
   "cell_type": "code",
   "execution_count": 6,
   "metadata": {},
   "outputs": [
    {
     "data": {
      "text/plain": [
       "2799"
      ]
     },
     "execution_count": 6,
     "metadata": {},
     "output_type": "execute_result"
    }
   ],
   "source": [
    "rows = list()\n",
    "publisher = publishers[0]\n",
    "for publisher in publishers:\n",
    "    info = get_publisher_info(publisher)\n",
    "    for link in publisher.findall('copyrightlinks/copyrightlink'):\n",
    "        row = info.copy()\n",
    "        row['link_type'] = link.findtext('copyrightlinktext').strip()\n",
    "        row['link_url'] = link.findtext('copyrightlinkurl').strip()\n",
    "        rows.append(row)\n",
    "link_df = pandas.DataFrame(rows)\n",
    "len(link_df)"
   ]
  },
  {
   "cell_type": "code",
   "execution_count": 7,
   "metadata": {},
   "outputs": [
    {
     "data": {
      "text/html": [
       "<div>\n",
       "<style scoped>\n",
       "    .dataframe tbody tr th:only-of-type {\n",
       "        vertical-align: middle;\n",
       "    }\n",
       "\n",
       "    .dataframe tbody tr th {\n",
       "        vertical-align: top;\n",
       "    }\n",
       "\n",
       "    .dataframe thead th {\n",
       "        text-align: right;\n",
       "    }\n",
       "</style>\n",
       "<table border=\"1\" class=\"dataframe\">\n",
       "  <thead>\n",
       "    <tr style=\"text-align: right;\">\n",
       "      <th></th>\n",
       "      <th>romeo_id</th>\n",
       "      <th>publisher_name</th>\n",
       "      <th>publisher_alias</th>\n",
       "      <th>link_type</th>\n",
       "      <th>link_url</th>\n",
       "    </tr>\n",
       "  </thead>\n",
       "  <tbody>\n",
       "    <tr>\n",
       "      <th>0</th>\n",
       "      <td>3031</td>\n",
       "      <td>АБВ-пресс</td>\n",
       "      <td>ABV-press</td>\n",
       "      <td>Policy</td>\n",
       "      <td>http://agx.abvpress.ru/jour/about/submissions#...</td>\n",
       "    </tr>\n",
       "    <tr>\n",
       "      <th>1</th>\n",
       "      <td>2014</td>\n",
       "      <td>Česká pedagogická společnost</td>\n",
       "      <td>Czech Pedagogical Society</td>\n",
       "      <td>Policy</td>\n",
       "      <td>http://www.ped.muni.cz/pedor/index.php?option=...</td>\n",
       "    </tr>\n",
       "  </tbody>\n",
       "</table>\n",
       "</div>"
      ],
      "text/plain": [
       "  romeo_id                publisher_name            publisher_alias link_type  \\\n",
       "0     3031                     АБВ-пресс                  ABV-press    Policy   \n",
       "1     2014  Česká pedagogická společnost  Czech Pedagogical Society    Policy   \n",
       "\n",
       "                                            link_url  \n",
       "0  http://agx.abvpress.ru/jour/about/submissions#...  \n",
       "1  http://www.ped.muni.cz/pedor/index.php?option=...  "
      ]
     },
     "execution_count": 7,
     "metadata": {},
     "output_type": "execute_result"
    }
   ],
   "source": [
    "link_df.head(2)"
   ]
  },
  {
   "cell_type": "code",
   "execution_count": 8,
   "metadata": {},
   "outputs": [],
   "source": [
    "# Save link dataframe to a TSV file\n",
    "link_df.to_csv('data/romeo-publisher-links.tsv', sep='\\t', index=False)"
   ]
  },
  {
   "cell_type": "code",
   "execution_count": 9,
   "metadata": {},
   "outputs": [
    {
     "data": {
      "text/plain": [
       "Policy                     1818\n",
       "Example Policy              167\n",
       "NIH policy                   56\n",
       "publication rights           56\n",
       "Other funding agencies       38\n",
       "Instructions to authors      28\n",
       "Other funding agenies        18\n",
       "                             14\n",
       "Self-archiving               10\n",
       "NIH Policy                   10\n",
       "Name: link_type, dtype: int64"
      ]
     },
     "execution_count": 9,
     "metadata": {},
     "output_type": "execute_result"
    }
   ],
   "source": [
    "# Most common link types\n",
    "link_df.link_type.value_counts().head(10)"
   ]
  }
 ],
 "metadata": {
  "kernelspec": {
   "display_name": "Python [conda env:anaconda3]",
   "language": "python",
   "name": "conda-env-anaconda3-py"
  },
  "language_info": {
   "codemirror_mode": {
    "name": "ipython",
    "version": 3
   },
   "file_extension": ".py",
   "mimetype": "text/x-python",
   "name": "python",
   "nbconvert_exporter": "python",
   "pygments_lexer": "ipython3",
   "version": "3.6.5"
  }
 },
 "nbformat": 4,
 "nbformat_minor": 2
}
